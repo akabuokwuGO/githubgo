{
 "cells": [
  {
   "cell_type": "code",
   "execution_count": null,
   "id": "48b4757d-2370-4e1d-8e5a-adcc8966b215",
   "metadata": {},
   "outputs": [],
   "source": [
    "# Import necessary libraries\n",
    "import pandas as pd\n",
    "\n",
    "df = pd.read_csv('balance.txt',sep=' ')\n",
    "\n",
    "# a. Select the 'Limit' and 'Rating' columns of the first five observations.\n",
    "limit_rating_first_five = df.loc[:4, ['Limit', 'Rating']]\n",
    "print(\"a: 'Limit' and 'Rating' columns of the first five observations:\")\n",
    "print(limit_rating_first_five)\n",
    "\n",
    "# b. Select the first five observations with 4 cards.\n",
    "first_five_four_cards = df[df['Cards'] == 4].head(5)\n",
    "print(\"\\nb: First five observations with 4 cards:\")\n",
    "print(first_five_four_cards)\n",
    "\n",
    "# c. Sort the observations by 'Education'. Show users with a high education value first (descending order).\n",
    "sort_by_education = df.sort_values(by='Education', ascending=False)\n",
    "print(\"\\nc: Observations sorted by 'Education' (highest first):\")\n",
    "print(sort_by_education)\n",
    "\n",
    "\n",
    "# This selects all rows and all columns from the DataFrame `df`.\n",
    "df.iloc[:,:]\n",
    "\n",
    "# This selects all rows starting from the 5th index (inclusive) and all columns starting from the 5th index (inclusive).\n",
    "df.iloc[5:,5:]\n",
    "\n",
    "# This selects all rows and only the first column (index 0) from the DataFrame `df`.\n",
    "df.iloc[:,0]\n",
    "\n",
    "# This selects all columns for the 10th row (index 9) from the DataFrame `df`.\n",
    "df.iloc[9,:]\n",
    "\n"
   ]
  },
  {
   "cell_type": "code",
   "execution_count": null,
   "id": "7dd06242-5311-46a0-8ef7-8549377388a1",
   "metadata": {},
   "outputs": [],
   "source": []
  }
 ],
 "metadata": {
  "kernelspec": {
   "display_name": "Python 3 (ipykernel)",
   "language": "python",
   "name": "python3"
  },
  "language_info": {
   "codemirror_mode": {
    "name": "ipython",
    "version": 3
   },
   "file_extension": ".py",
   "mimetype": "text/x-python",
   "name": "python",
   "nbconvert_exporter": "python",
   "pygments_lexer": "ipython3",
   "version": "3.11.9"
  }
 },
 "nbformat": 4,
 "nbformat_minor": 5
}
