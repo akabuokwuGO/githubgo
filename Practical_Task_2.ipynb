{
 "cells": [
  {
   "cell_type": "code",
   "execution_count": null,
   "id": "3b8e822d-30fe-4c62-8854-3d1a1937103e",
   "metadata": {},
   "outputs": [],
   "source": [
    "# Import necessary libraries\n",
    "import pandas as pd\n",
    "\n",
    "df = pd.read_csv('balance.txt', sep=' ')\n",
    "\n",
    "# Generate the report\n",
    "# 1. Compare the average income based on ethnicity.\n",
    "average_income_by_ethnicity = df.groupby('Ethnicity')['Income'].mean()\n",
    "\n",
    "# 2. On average, do married or single people have a higher balance?\n",
    "average_balance_by_marital_status = df.groupby('Married')['Balance'].mean()\n",
    "\n",
    "# 3. What is the highest income in our dataset?\n",
    "highest_income = df['Income'].max()\n",
    "\n",
    "# 4. What is the lowest income in our dataset?\n",
    "lowest_income = df['Income'].min()\n",
    "\n",
    "# 5. How many cards do we have recorded in our dataset? \n",
    "total_cards = df['Cards'].sum()\n",
    "\n",
    "# 6. How many females do we have information for vs how many males? \n",
    "gender_counts = df['Gender'].value_counts()\n",
    "\n",
    "# Display the results\n",
    "print(\"No. 1: Average Income by Ethnicity:\\n\", average_income_by_ethnicity)\n",
    "print(\"\\nNo. 2: Average Balance by Marital Status:\\n\", average_balance_by_marital_status)\n",
    "print(\"\\nNo. 3: Highest Income:\", highest_income)\n",
    "print(\"No. 4: Lowest Income:\", lowest_income)\n",
    "print(\"\\nNo. 5: Total Number of Cards:\", total_cards)\n",
    "print(\"\\nNo. 6: Gender Counts:\\n\", gender_counts)\n"
   ]
  },
  {
   "cell_type": "code",
   "execution_count": null,
   "id": "75970ba3-8fd2-4e49-9199-604b76e3ce0f",
   "metadata": {},
   "outputs": [],
   "source": []
  }
 ],
 "metadata": {
  "kernelspec": {
   "display_name": "Python 3 (ipykernel)",
   "language": "python",
   "name": "python3"
  },
  "language_info": {
   "codemirror_mode": {
    "name": "ipython",
    "version": 3
   },
   "file_extension": ".py",
   "mimetype": "text/x-python",
   "name": "python",
   "nbconvert_exporter": "python",
   "pygments_lexer": "ipython3",
   "version": "3.11.9"
  }
 },
 "nbformat": 4,
 "nbformat_minor": 5
}
