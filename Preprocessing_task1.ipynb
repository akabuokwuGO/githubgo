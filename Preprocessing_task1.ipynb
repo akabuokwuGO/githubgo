{
 "cells": [
  {
   "cell_type": "code",
   "execution_count": 12,
   "id": "74b78b00-9cc5-4196-97dd-7849fb58c99b",
   "metadata": {},
   "outputs": [],
   "source": [
    "# Import libraries\n",
    "import pandas as pd\n",
    "import numpy as np\n",
    "\n",
    "# 1. Read in the store_income_data_task.csv file\n",
    "df = pd.read_csv('store_income_data_task.csv')"
   ]
  },
  {
   "cell_type": "code",
   "execution_count": 13,
   "id": "42eb9f04-609b-41b6-95aa-eb35a8c7957c",
   "metadata": {},
   "outputs": [
    {
     "data": {
      "text/html": [
       "<div>\n",
       "<style scoped>\n",
       "    .dataframe tbody tr th:only-of-type {\n",
       "        vertical-align: middle;\n",
       "    }\n",
       "\n",
       "    .dataframe tbody tr th {\n",
       "        vertical-align: top;\n",
       "    }\n",
       "\n",
       "    .dataframe thead th {\n",
       "        text-align: right;\n",
       "    }\n",
       "</style>\n",
       "<table border=\"1\" class=\"dataframe\">\n",
       "  <thead>\n",
       "    <tr style=\"text-align: right;\">\n",
       "      <th></th>\n",
       "      <th>id</th>\n",
       "      <th>store_name</th>\n",
       "      <th>store_email</th>\n",
       "      <th>department</th>\n",
       "      <th>income</th>\n",
       "      <th>date_measured</th>\n",
       "      <th>country</th>\n",
       "    </tr>\n",
       "  </thead>\n",
       "  <tbody>\n",
       "    <tr>\n",
       "      <th>0</th>\n",
       "      <td>1</td>\n",
       "      <td>Cullen/Frost Bankers, Inc.</td>\n",
       "      <td>NaN</td>\n",
       "      <td>Clothing</td>\n",
       "      <td>$54438554.24</td>\n",
       "      <td>4-2-2006</td>\n",
       "      <td>United States/</td>\n",
       "    </tr>\n",
       "    <tr>\n",
       "      <th>1</th>\n",
       "      <td>2</td>\n",
       "      <td>Nordson Corporation</td>\n",
       "      <td>NaN</td>\n",
       "      <td>Tools</td>\n",
       "      <td>$41744177.01</td>\n",
       "      <td>4-1-2006</td>\n",
       "      <td>Britain</td>\n",
       "    </tr>\n",
       "    <tr>\n",
       "      <th>2</th>\n",
       "      <td>3</td>\n",
       "      <td>Stag Industrial, Inc.</td>\n",
       "      <td>NaN</td>\n",
       "      <td>Beauty</td>\n",
       "      <td>$36152340.34</td>\n",
       "      <td>12-9-2003</td>\n",
       "      <td>United States</td>\n",
       "    </tr>\n",
       "    <tr>\n",
       "      <th>3</th>\n",
       "      <td>4</td>\n",
       "      <td>FIRST REPUBLIC BANK</td>\n",
       "      <td>ecanadine3@fc2.com</td>\n",
       "      <td>Automotive</td>\n",
       "      <td>$8928350.04</td>\n",
       "      <td>8-5-2006</td>\n",
       "      <td>Britain/</td>\n",
       "    </tr>\n",
       "    <tr>\n",
       "      <th>4</th>\n",
       "      <td>5</td>\n",
       "      <td>Mercantile Bank Corporation</td>\n",
       "      <td>NaN</td>\n",
       "      <td>Baby</td>\n",
       "      <td>$33552742.32</td>\n",
       "      <td>21-1-1973</td>\n",
       "      <td>United Kingdom</td>\n",
       "    </tr>\n",
       "  </tbody>\n",
       "</table>\n",
       "</div>"
      ],
      "text/plain": [
       "   id                   store_name         store_email  department  \\\n",
       "0   1   Cullen/Frost Bankers, Inc.                 NaN    Clothing   \n",
       "1   2          Nordson Corporation                 NaN       Tools   \n",
       "2   3        Stag Industrial, Inc.                 NaN      Beauty   \n",
       "3   4          FIRST REPUBLIC BANK  ecanadine3@fc2.com  Automotive   \n",
       "4   5  Mercantile Bank Corporation                 NaN        Baby   \n",
       "\n",
       "         income date_measured          country  \n",
       "0  $54438554.24      4-2-2006   United States/  \n",
       "1  $41744177.01      4-1-2006          Britain  \n",
       "2  $36152340.34     12-9-2003    United States  \n",
       "3   $8928350.04      8-5-2006         Britain/  \n",
       "4  $33552742.32     21-1-1973   United Kingdom  "
      ]
     },
     "execution_count": 13,
     "metadata": {},
     "output_type": "execute_result"
    }
   ],
   "source": [
    "# 2. Display the first five observations.\n",
    "df.head()"
   ]
  },
  {
   "cell_type": "code",
   "execution_count": 14,
   "id": "b8816a82-3431-452f-a899-0a6d9114c337",
   "metadata": {},
   "outputs": [
    {
     "name": "stdout",
     "output_type": "stream",
     "text": [
      "id                 0\n",
      "store_name         0\n",
      "store_email      587\n",
      "department        27\n",
      "income             0\n",
      "date_measured      0\n",
      "country           35\n",
      "dtype: int64\n"
     ]
    }
   ],
   "source": [
    "# 3. Get the number of missing values per column and print the results\n",
    "missing_values = df.isnull().sum()\n",
    "\n",
    "# Print the results\n",
    "print(missing_values)"
   ]
  },
  {
   "cell_type": "markdown",
   "id": "b6a5abe3-2c3b-4209-b02e-0730dadb7409",
   "metadata": {},
   "source": [
    "Write a note on why you think we have missing data on the following three columns: store_email, department, and country.\n",
    "\n",
    "Remember to classify them according to the three categories of missingness we have considered.\n",
    "\n",
    "After analyzing the missing data in the store_email, department, and country columns, here's what I found:\n",
    "\n",
    "store_email\n",
    "\n",
    "- I believe the missing data in the store_email column falls under the category of Missing Completely at Random (MCAR).\n",
    "- The reason for this assumption is that email addresses might not be available for all stores, and the absence of an email address does not necessarily correlate with any other variable in the dataset.\n",
    "\n",
    "department\n",
    "\n",
    "- The missing data in the department column could be classified as Missing at Random (MAR).\n",
    "- It's possible that certain departments might not be relevant or applicable to all stores, leading to missing values.\n",
    "- Also, the missingness might be related to other variables in the dataset, such as store type or location.\n",
    "\n",
    "country\n",
    "\n",
    "- I think the missing data in the country column falls under the category of Missing Not at Random (MNAR).\n",
    "- The reason for this assumption is that missing country information might be related to specific store characteristics or locations that are not captured in the dataset.\n",
    "- For example, stores from certain countries might be less likely to report their country information due to various reasons such as regulatory or privacy concerns.\n",
    "\n",
    "These classifications are based on initial observations and might require further investigation to confirm the underlying reasons for the missing data."
   ]
  },
  {
   "cell_type": "code",
   "execution_count": null,
   "id": "84a2d923-519a-4efe-9d8c-1d7b8733f0d3",
   "metadata": {},
   "outputs": [],
   "source": []
  }
 ],
 "metadata": {
  "kernelspec": {
   "display_name": "Python 3 (ipykernel)",
   "language": "python",
   "name": "python3"
  },
  "language_info": {
   "codemirror_mode": {
    "name": "ipython",
    "version": 3
   },
   "file_extension": ".py",
   "mimetype": "text/x-python",
   "name": "python",
   "nbconvert_exporter": "python",
   "pygments_lexer": "ipython3",
   "version": "3.11.9"
  }
 },
 "nbformat": 4,
 "nbformat_minor": 5
}
